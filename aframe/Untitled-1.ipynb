{
 "cells": [
  {
   "cell_type": "code",
   "execution_count": 37,
   "metadata": {},
   "outputs": [],
   "source": [
    "\n",
    "import os\n",
    "import yaml\n",
    "import json\n",
    "from collections import defaultdict\n",
    "from configparser import ConfigParser"
   ]
  },
  {
   "cell_type": "code",
   "execution_count": 46,
   "metadata": {},
   "outputs": [
    {
     "data": {
      "text/plain": [
       "['default']"
      ]
     },
     "execution_count": 46,
     "metadata": {},
     "output_type": "execute_result"
    }
   ],
   "source": [
    "config = ConfigParser()\n",
    "config.read(\"/home/ethan.marx/.aws/credentials\")\n",
    "config.sections()"
   ]
  },
  {
   "cell_type": "code",
   "execution_count": 49,
   "metadata": {},
   "outputs": [
    {
     "data": {
      "text/plain": [
       "<map at 0x7f07be2c30a0>"
      ]
     },
     "execution_count": 49,
     "metadata": {},
     "output_type": "execute_result"
    }
   ],
   "source": [
    "shifts = [0, 1]\n",
    "i =2\n",
    "[(i + 1) * shift for shift in shifts]\n",
    "shifts = map(str, shifts)\n",
    "shifts"
   ]
  },
  {
   "cell_type": "code",
   "execution_count": 36,
   "metadata": {},
   "outputs": [
    {
     "data": {
      "text/plain": [
       "defaultdict(dict,\n",
       "            {'affinity': {'nodeAffinity': {'requiredDuringSchedulingIgnoredDuringExecution': {'nodeSelectorTerms': [{'matchExpressions': [{'key': 'nvidia.com/gpu.memory',\n",
       "                    'operator': 'Gt',\n",
       "                    'values': ['a']}]}]}}}})"
      ]
     },
     "execution_count": 36,
     "metadata": {},
     "output_type": "execute_result"
    }
   ],
   "source": [
    "spec = defaultdict(dict)\n",
    "spec[\"affinity\"][\"nodeAffinity\"] = {}\n",
    "spec[\"affinity\"][\"nodeAffinity\"][\n",
    "    \"requiredDuringSchedulingIgnoredDuringExecution\"\n",
    "    ] = {\n",
    "        \"nodeSelectorTerms\": [\n",
    "            {\n",
    "                \"matchExpressions\": [\n",
    "                    {\n",
    "                        \"key\": \"nvidia.com/gpu.memory\",\n",
    "                        \"operator\": \"Gt\",\n",
    "                        \"values\": [\"a\"],\n",
    "                    }\n",
    "                ]\n",
    "            }\n",
    "        ]\n",
    "    }\n",
    "spec"
   ]
  },
  {
   "cell_type": "code",
   "execution_count": 20,
   "metadata": {},
   "outputs": [],
   "source": [
    "with open(\"/home/ethan.marx/projects/aframev2/projects/train/config.yaml\") as f:\n",
    "    x = yaml.safe_load(f)\n",
    "\n",
    "json_string = json.dumps(x)"
   ]
  },
  {
   "cell_type": "code",
   "execution_count": 21,
   "metadata": {},
   "outputs": [
    {
     "data": {
      "text/plain": [
       "'{\"model\": {\"class_path\": \"train.model.SupervisedAframe\", \"init_args\": {\"arch\": {\"class_path\": \"train.architectures.supervised.SupervisedTimeDomainResNet\", \"init_args\": {\"layers\": [3, 4, 6, 3], \"norm_layer\": {\"class_path\": \"ml4gw.nn.norm.GroupNormGetter\", \"init_args\": {\"groups\": 16}}}}, \"metric\": {\"class_path\": \"train.metrics.TimeSlideAUROC\", \"init_args\": {\"max_fpr\": \"1e-3\", \"pool_length\": 8}}, \"learning_rate\": 0.000585, \"pct_lr_ramp\": 0.115}}, \"data\": {\"class_path\": \"train.data.TimeDomainSupervisedAframeDataset\", \"init_args\": {\"batch_size\": 512, \"psd_length\": 8, \"fftlength\": null, \"waveform_prob\": 0.277, \"snr_thresh\": 4, \"max_snr\": 100, \"snr_alpha\": 3, \"swap_frac\": 0.014, \"mute_frac\": 0.055, \"trigger_pad\": -0.75, \"valid_frac\": 0.25, \"valid_stride\": 0.5, \"num_valid_views\": 4, \"valid_livetime\": 86400}}, \"trainer\": {\"logger\": [{\"class_path\": \"lightning.pytorch.loggers.CSVLogger\", \"init_args\": {\"flush_logs_every_n_steps\": 10}}], \"accelerator\": \"auto\", \"max_epochs\": 150, \"check_val_every_n_epoch\": 1, \"log_every_n_steps\": 20, \"benchmark\": true}}'"
      ]
     },
     "execution_count": 21,
     "metadata": {},
     "output_type": "execute_result"
    }
   ],
   "source": [
    "json_string"
   ]
  },
  {
   "cell_type": "code",
   "execution_count": 3,
   "metadata": {},
   "outputs": [
    {
     "data": {
      "text/plain": [
       "'s3://test/fname'"
      ]
     },
     "execution_count": 3,
     "metadata": {},
     "output_type": "execute_result"
    }
   ],
   "source": [
    "os.path.join(\"s3://test\", \"fname\")"
   ]
  },
  {
   "cell_type": "code",
   "execution_count": 21,
   "metadata": {},
   "outputs": [
    {
     "ename": "AttributeError",
     "evalue": "'_io.TextIOWrapper' object has no attribute 'format'",
     "output_type": "error",
     "traceback": [
      "\u001b[0;31m---------------------------------------------------------------------------\u001b[0m",
      "\u001b[0;31mAttributeError\u001b[0m                            Traceback (most recent call last)",
      "Cell \u001b[0;32mIn[21], line 3\u001b[0m\n\u001b[1;32m      1\u001b[0m target \u001b[39m=\u001b[39m law\u001b[39m.\u001b[39mLocalFileTarget(path\u001b[39m=\u001b[39m\u001b[39m\"\u001b[39m\u001b[39m/home/ethan.marx/luigi_test.hdf5\u001b[39m\u001b[39m\"\u001b[39m)\n\u001b[1;32m      2\u001b[0m target\u001b[39m.\u001b[39mformat\n\u001b[0;32m----> 3\u001b[0m target\u001b[39m.\u001b[39;49mopen(\u001b[39m\"\u001b[39;49m\u001b[39mw\u001b[39;49m\u001b[39m\"\u001b[39;49m)\u001b[39m.\u001b[39;49mformat(\u001b[39m\"\u001b[39m\u001b[39mhdf5\u001b[39m\u001b[39m\"\u001b[39m)\u001b[39m.\u001b[39mclose()\n",
      "\u001b[0;31mAttributeError\u001b[0m: '_io.TextIOWrapper' object has no attribute 'format'"
     ]
    }
   ],
   "source": [
    "target = law.LocalFileTarget(path=\"/home/ethan.marx/luigi_test.hdf5\")\n",
    "target.open(\"w\").format(\"hdf5\").close()"
   ]
  },
  {
   "cell_type": "code",
   "execution_count": null,
   "metadata": {},
   "outputs": [],
   "source": []
  },
  {
   "cell_type": "code",
   "execution_count": 10,
   "metadata": {},
   "outputs": [],
   "source": [
    "from gwpy.timeseries import TimeSeries\n",
    "import h5py\n",
    "x = TimeSeries([0,1,2], dt=1, name=\"test\")"
   ]
  },
  {
   "cell_type": "code",
   "execution_count": 15,
   "metadata": {},
   "outputs": [
    {
     "data": {
      "text/plain": [
       "('data.test.test', '.', 'fake')"
      ]
     },
     "execution_count": 15,
     "metadata": {},
     "output_type": "execute_result"
    }
   ],
   "source": [
    "\"data.test.test.fake\".rpartition(\".\")"
   ]
  },
  {
   "cell_type": "code",
   "execution_count": 13,
   "metadata": {},
   "outputs": [],
   "source": [
    "with h5py.File(\"test.hdf5\", \"w\") as f:\n",
    "    with f:\n",
    "        x.write(f, path=\"test\")"
   ]
  },
  {
   "cell_type": "code",
   "execution_count": 13,
   "metadata": {},
   "outputs": [],
   "source": [
    "from luigi import Config as _Config\n",
    "import luigi\n",
    "\n",
    "class Config(_Config):\n",
    "    def to_dict(self):\n",
    "        # first, get all params\n",
    "        params = {key: getattr(self, key) for key in self.get_param_names()}\n",
    "        # then, if any sub configs exist append \n",
    "        # their parameters as well\n",
    "        for sub_config in self.iter_sub_configs():\n",
    "            params.update(sub_config.to_dict())\n",
    "        return params\n",
    "    \n",
    "    def iter_sub_configs(self):\n",
    "        for var in vars(self):\n",
    "            print(var)\n",
    "            if isinstance(getattr(self, var), Config):\n",
    "                yield getattr(self, var)\n"
   ]
  },
  {
   "cell_type": "code",
   "execution_count": null,
   "metadata": {},
   "outputs": [],
   "source": []
  },
  {
   "cell_type": "code",
   "execution_count": 14,
   "metadata": {},
   "outputs": [],
   "source": [
    "class test(Config):\n",
    "    param1 = luigi.IntParameter(default=1)\n",
    "\n",
    "class test2(Config):\n",
    "    param2 = luigi.IntParameter()\n",
    "    test = test()"
   ]
  },
  {
   "cell_type": "code",
   "execution_count": 17,
   "metadata": {},
   "outputs": [
    {
     "name": "stdout",
     "output_type": "stream",
     "text": [
      "param2\n",
      "param_kwargs\n",
      "task_id\n",
      "_Task__hash\n",
      "set_tracking_url\n",
      "set_status_message\n",
      "set_progress_percentage\n"
     ]
    },
    {
     "data": {
      "text/plain": [
       "[]"
      ]
     },
     "execution_count": 17,
     "metadata": {},
     "output_type": "execute_result"
    }
   ],
   "source": [
    "y = test(param1=1)\n",
    "x = test2(param2=1).iter_sub_configs()\n",
    "list(x)"
   ]
  },
  {
   "cell_type": "code",
   "execution_count": 18,
   "metadata": {},
   "outputs": [
    {
     "ename": "MissingParameterException",
     "evalue": "test2[args=(), kwargs={}]: requires the 'param2' parameter to be set",
     "output_type": "error",
     "traceback": [
      "\u001b[0;31m---------------------------------------------------------------------------\u001b[0m",
      "\u001b[0;31mMissingParameterException\u001b[0m                 Traceback (most recent call last)",
      "Cell \u001b[0;32mIn[18], line 1\u001b[0m\n\u001b[0;32m----> 1\u001b[0m test2()\u001b[39m.\u001b[39mtest\n",
      "File \u001b[0;32m~/miniconda3/envs/train-Z7xMGuoY-py3.9/lib/python3.9/site-packages/luigi/task_register.py:87\u001b[0m, in \u001b[0;36mRegister.__call__\u001b[0;34m(cls, *args, **kwargs)\u001b[0m\n\u001b[1;32m     84\u001b[0m     \u001b[39mreturn\u001b[39;00m instantiate()\n\u001b[1;32m     86\u001b[0m params \u001b[39m=\u001b[39m \u001b[39mcls\u001b[39m\u001b[39m.\u001b[39mget_params()\n\u001b[0;32m---> 87\u001b[0m param_values \u001b[39m=\u001b[39m \u001b[39mcls\u001b[39;49m\u001b[39m.\u001b[39;49mget_param_values(params, args, kwargs)\n\u001b[1;32m     89\u001b[0m k \u001b[39m=\u001b[39m (\u001b[39mcls\u001b[39m, \u001b[39mtuple\u001b[39m(param_values))\n\u001b[1;32m     91\u001b[0m \u001b[39mtry\u001b[39;00m:\n",
      "File \u001b[0;32m~/miniconda3/envs/train-Z7xMGuoY-py3.9/lib/python3.9/site-packages/luigi/task.py:425\u001b[0m, in \u001b[0;36mTask.get_param_values\u001b[0;34m(cls, params, args, kwargs)\u001b[0m\n\u001b[1;32m    423\u001b[0m             \u001b[39mraise\u001b[39;00m \u001b[39mValueError\u001b[39;00m(\u001b[39m\"\u001b[39m\u001b[39m%s\u001b[39;00m\u001b[39m: Error when parsing the default value of \u001b[39m\u001b[39m'\u001b[39m\u001b[39m%s\u001b[39;00m\u001b[39m'\u001b[39m\u001b[39m\"\u001b[39m \u001b[39m%\u001b[39m (exc_desc, param_name)) \u001b[39mfrom\u001b[39;00m \u001b[39mexc\u001b[39;00m\n\u001b[1;32m    424\u001b[0m         \u001b[39mif\u001b[39;00m \u001b[39mnot\u001b[39;00m has_task_value:\n\u001b[0;32m--> 425\u001b[0m             \u001b[39mraise\u001b[39;00m parameter\u001b[39m.\u001b[39mMissingParameterException(\u001b[39m\"\u001b[39m\u001b[39m%s\u001b[39;00m\u001b[39m: requires the \u001b[39m\u001b[39m'\u001b[39m\u001b[39m%s\u001b[39;00m\u001b[39m'\u001b[39m\u001b[39m parameter to be set\u001b[39m\u001b[39m\"\u001b[39m \u001b[39m%\u001b[39m (exc_desc, param_name))\n\u001b[1;32m    426\u001b[0m         result[param_name] \u001b[39m=\u001b[39m param_obj\u001b[39m.\u001b[39mtask_value(task_family, param_name)\n\u001b[1;32m    428\u001b[0m \u001b[39mdef\u001b[39;00m \u001b[39mlist_to_tuple\u001b[39m(x):\n",
      "\u001b[0;31mMissingParameterException\u001b[0m: test2[args=(), kwargs={}]: requires the 'param2' parameter to be set"
     ]
    }
   ],
   "source": [
    "test2().test"
   ]
  },
  {
   "cell_type": "code",
   "execution_count": 4,
   "metadata": {},
   "outputs": [],
   "source": [
    "import subprocess"
   ]
  },
  {
   "cell_type": "code",
   "execution_count": 5,
   "metadata": {},
   "outputs": [],
   "source": [
    "def get_poetry_env(path):\n",
    "    \"\"\"\n",
    "    Get the poetry environment\n",
    "    for a given path.\n",
    "    \"\"\"\n",
    "\n",
    "    try:\n",
    "        output = subprocess.check_output(\n",
    "            [\"poetry\", \"env\", \"info\", \"-p\"], cwd=path\n",
    "\n",
    "\n",
    "    return output.decode(\"utf-8\").strip()"
   ]
  },
  {
   "cell_type": "code",
   "execution_count": 6,
   "metadata": {},
   "outputs": [
    {
     "ename": "CalledProcessError",
     "evalue": "Command '['poetry', 'env', 'info', '-p']' returned non-zero exit status 1.",
     "output_type": "error",
     "traceback": [
      "\u001b[0;31m---------------------------------------------------------------------------\u001b[0m",
      "\u001b[0;31mCalledProcessError\u001b[0m                        Traceback (most recent call last)",
      "Cell \u001b[0;32mIn[6], line 1\u001b[0m\n\u001b[0;32m----> 1\u001b[0m get_poetry_env(\u001b[39m\"\u001b[39;49m\u001b[39m/home/ethan.marx/projects/aframev2/hermes/hermes/hermes.cloudbreak\u001b[39;49m\u001b[39m\"\u001b[39;49m)\n",
      "Cell \u001b[0;32mIn[5], line 8\u001b[0m, in \u001b[0;36mget_poetry_env\u001b[0;34m(path)\u001b[0m\n\u001b[1;32m      2\u001b[0m \u001b[39m\u001b[39m\u001b[39m\"\"\"\u001b[39;00m\n\u001b[1;32m      3\u001b[0m \u001b[39mGet the poetry environment\u001b[39;00m\n\u001b[1;32m      4\u001b[0m \u001b[39mfor a given path.\u001b[39;00m\n\u001b[1;32m      5\u001b[0m \u001b[39m\"\"\"\u001b[39;00m\n\u001b[1;32m      6\u001b[0m \u001b[39mimport\u001b[39;00m \u001b[39msubprocess\u001b[39;00m\n\u001b[0;32m----> 8\u001b[0m output \u001b[39m=\u001b[39m subprocess\u001b[39m.\u001b[39;49mcheck_output(\n\u001b[1;32m      9\u001b[0m     [\u001b[39m\"\u001b[39;49m\u001b[39mpoetry\u001b[39;49m\u001b[39m\"\u001b[39;49m, \u001b[39m\"\u001b[39;49m\u001b[39menv\u001b[39;49m\u001b[39m\"\u001b[39;49m, \u001b[39m\"\u001b[39;49m\u001b[39minfo\u001b[39;49m\u001b[39m\"\u001b[39;49m, \u001b[39m\"\u001b[39;49m\u001b[39m-p\u001b[39;49m\u001b[39m\"\u001b[39;49m], cwd\u001b[39m=\u001b[39;49mpath\n\u001b[1;32m     10\u001b[0m )\n\u001b[1;32m     11\u001b[0m \u001b[39mreturn\u001b[39;00m output\u001b[39m.\u001b[39mdecode(\u001b[39m\"\u001b[39m\u001b[39mutf-8\u001b[39m\u001b[39m\"\u001b[39m)\u001b[39m.\u001b[39mstrip()\n",
      "File \u001b[0;32m~/miniconda3/lib/python3.9/subprocess.py:424\u001b[0m, in \u001b[0;36mcheck_output\u001b[0;34m(timeout, *popenargs, **kwargs)\u001b[0m\n\u001b[1;32m    421\u001b[0m         empty \u001b[39m=\u001b[39m \u001b[39mb\u001b[39m\u001b[39m'\u001b[39m\u001b[39m'\u001b[39m\n\u001b[1;32m    422\u001b[0m     kwargs[\u001b[39m'\u001b[39m\u001b[39minput\u001b[39m\u001b[39m'\u001b[39m] \u001b[39m=\u001b[39m empty\n\u001b[0;32m--> 424\u001b[0m \u001b[39mreturn\u001b[39;00m run(\u001b[39m*\u001b[39;49mpopenargs, stdout\u001b[39m=\u001b[39;49mPIPE, timeout\u001b[39m=\u001b[39;49mtimeout, check\u001b[39m=\u001b[39;49m\u001b[39mTrue\u001b[39;49;00m,\n\u001b[1;32m    425\u001b[0m            \u001b[39m*\u001b[39;49m\u001b[39m*\u001b[39;49mkwargs)\u001b[39m.\u001b[39mstdout\n",
      "File \u001b[0;32m~/miniconda3/lib/python3.9/subprocess.py:528\u001b[0m, in \u001b[0;36mrun\u001b[0;34m(input, capture_output, timeout, check, *popenargs, **kwargs)\u001b[0m\n\u001b[1;32m    526\u001b[0m     retcode \u001b[39m=\u001b[39m process\u001b[39m.\u001b[39mpoll()\n\u001b[1;32m    527\u001b[0m     \u001b[39mif\u001b[39;00m check \u001b[39mand\u001b[39;00m retcode:\n\u001b[0;32m--> 528\u001b[0m         \u001b[39mraise\u001b[39;00m CalledProcessError(retcode, process\u001b[39m.\u001b[39margs,\n\u001b[1;32m    529\u001b[0m                                  output\u001b[39m=\u001b[39mstdout, stderr\u001b[39m=\u001b[39mstderr)\n\u001b[1;32m    530\u001b[0m \u001b[39mreturn\u001b[39;00m CompletedProcess(process\u001b[39m.\u001b[39margs, retcode, stdout, stderr)\n",
      "\u001b[0;31mCalledProcessError\u001b[0m: Command '['poetry', 'env', 'info', '-p']' returned non-zero exit status 1."
     ]
    }
   ],
   "source": [
    "get_poetry_env(\"/home/ethan.marx/projects/aframev2/hermes/hermes/hermes.cloudbreak\")"
   ]
  },
  {
   "cell_type": "code",
   "execution_count": 24,
   "metadata": {},
   "outputs": [],
   "source": [
    "model_repo_dir = \"/home/ethan.marx/aframe/methods-paper-main-run/model_repo/\"\n",
    "image = \"hermes/tritonserver:22.12\"\n",
    "server = serve(model_repo_dir, image, wait=False)"
   ]
  },
  {
   "cell_type": "code",
   "execution_count": 25,
   "metadata": {},
   "outputs": [
    {
     "name": "stdout",
     "output_type": "stream",
     "text": [
      "singularity -s instance start --nv /cvmfs/singularity.opensciencegrid.org/ml4gw/hermes/tritonserver:22.12 bricky_bits_2471\n",
      "13:4: not a valid test operator: (\n",
      "13:4: not a valid test operator: \n",
      "\n",
      "bricky_bits_2471\n"
     ]
    }
   ],
   "source": [
    "x = server.__enter__()\n"
   ]
  },
  {
   "cell_type": "code",
   "execution_count": 27,
   "metadata": {},
   "outputs": [
    {
     "name": "stdout",
     "output_type": "stream",
     "text": [
      "singularity instance list --json bricky_bits_2471\n"
     ]
    }
   ],
   "source": [
    "t = SingularityClient.instances(name=x.name)"
   ]
  },
  {
   "cell_type": "code",
   "execution_count": 28,
   "metadata": {},
   "outputs": [
    {
     "data": {
      "text/plain": [
       "0"
      ]
     },
     "execution_count": 28,
     "metadata": {},
     "output_type": "execute_result"
    }
   ],
   "source": [
    "t.stop()"
   ]
  },
  {
   "cell_type": "code",
   "execution_count": 10,
   "metadata": {},
   "outputs": [],
   "source": [
    "class Test:\n",
    "    time = range(10)"
   ]
  },
  {
   "cell_type": "code",
   "execution_count": 11,
   "metadata": {},
   "outputs": [],
   "source": [
    "t = Test()"
   ]
  },
  {
   "cell_type": "code",
   "execution_count": 12,
   "metadata": {},
   "outputs": [
    {
     "data": {
      "text/plain": [
       "range(0, 10)"
      ]
     },
     "execution_count": 12,
     "metadata": {},
     "output_type": "execute_result"
    }
   ],
   "source": [
    "t.time"
   ]
  },
  {
   "cell_type": "code",
   "execution_count": null,
   "metadata": {},
   "outputs": [],
   "source": []
  }
 ],
 "metadata": {
  "kernelspec": {
   "display_name": "aframe-sandbox",
   "language": "python",
   "name": "python3"
  },
  "language_info": {
   "codemirror_mode": {
    "name": "ipython",
    "version": 3
   },
   "file_extension": ".py",
   "mimetype": "text/x-python",
   "name": "python",
   "nbconvert_exporter": "python",
   "pygments_lexer": "ipython3",
   "version": "3.9.12"
  },
  "orig_nbformat": 4
 },
 "nbformat": 4,
 "nbformat_minor": 2
}
