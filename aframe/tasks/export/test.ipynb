{
 "cells": [
  {
   "cell_type": "code",
   "execution_count": null,
   "metadata": {},
   "outputs": [],
   "source": [
    "from aframe.tasks.export.target import ModelRepositoryTarget"
   ]
  }
 ],
 "metadata": {
  "kernelspec": {
   "display_name": "aframe-YBsg25UJ-py3.9",
   "language": "python",
   "name": "python3"
  },
  "language_info": {
   "name": "python",
   "version": "3.9.18"
  },
  "orig_nbformat": 4
 },
 "nbformat": 4,
 "nbformat_minor": 2
}
