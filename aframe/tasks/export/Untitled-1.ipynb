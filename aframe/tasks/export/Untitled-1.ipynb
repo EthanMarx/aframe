{
 "cells": [
  {
   "cell_type": "code",
   "execution_count": 28,
   "metadata": {},
   "outputs": [],
   "source": [
    "from ledger.events import EventSet, RecoveredInjectionSet\n",
    "import matplotlib.pyplot as plt\n",
    "import h5py"
   ]
  },
  {
   "cell_type": "code",
   "execution_count": 29,
   "metadata": {},
   "outputs": [
    {
     "name": "stdout",
     "output_type": "stream",
     "text": [
      "<KeysViewHDF5 ['a_1', 'a_2', 'dec', 'gps_time', 'mass_1', 'mass_2', 'phase', 'phi_12', 'phi_jl', 'psi', 'ra', 'redshift', 'shift', 'snr', 'theta_jn', 'tilt_1', 'tilt_2']>\n",
      "[[0. 1.]\n",
      " [0. 1.]\n",
      " [0. 1.]\n",
      " ...\n",
      " [0. 1.]\n",
      " [0. 1.]\n",
      " [0. 1.]]\n"
     ]
    }
   ],
   "source": [
    "with h5py.File(\"/home/ethan.marx/aframev2/mini-end-to-end/data/timeslide_waveforms/waveforms.hdf5\") as f:\n",
    "    x = f[\"parameters\"]\n",
    "    print(x.keys())\n",
    "    print(x[\"shift\"][:])"
   ]
  },
  {
   "cell_type": "code",
   "execution_count": 30,
   "metadata": {},
   "outputs": [],
   "source": [
    "background = EventSet.read(\"/home/ethan.marx/aframev2/mini-end-to-end/run/infer/background.hdf5\")\n",
    "foreground = RecoveredInjectionSet.read(\"/home/ethan.marx/aframev2/mini-end-to-end/run/infer/foreground.hdf5\")"
   ]
  },
  {
   "cell_type": "code",
   "execution_count": 31,
   "metadata": {},
   "outputs": [
    {
     "data": {
      "text/plain": [
       "(array([9.73632442e-03, 1.50470468e-02, 1.68172876e-02, 1.23916856e-02,\n",
       "        1.46044866e-02, 3.49622559e-02, 4.82390619e-02, 7.70054750e-02,\n",
       "        8.18736372e-02, 9.95760452e-02, 1.23031736e-01, 1.66845196e-01,\n",
       "        2.81468288e-01, 4.58934928e-01, 7.16947526e-01, 9.66551479e-01,\n",
       "        1.27678618e+00, 1.44982722e+00, 1.50160676e+00, 1.52683269e+00,\n",
       "        1.47151267e+00, 1.40512864e+00, 1.26572217e+00, 1.13959252e+00,\n",
       "        9.74075002e-01, 8.38651581e-01, 7.24913609e-01, 6.12060758e-01,\n",
       "        5.18680556e-01, 4.43887882e-01, 4.02729783e-01, 3.30592470e-01,\n",
       "        2.92089733e-01, 2.41637870e-01, 2.11543776e-01, 1.72598478e-01,\n",
       "        1.64189835e-01, 1.34095741e-01, 1.13295411e-01, 1.17721013e-01,\n",
       "        8.89546004e-02, 9.20525218e-02, 7.96608362e-02, 6.59414700e-02,\n",
       "        4.73539415e-02, 6.01881873e-02, 5.79753863e-02, 4.33708997e-02,\n",
       "        4.51411405e-02, 3.40771355e-02, 2.52259315e-02, 2.78812927e-02,\n",
       "        2.56684917e-02, 2.30131305e-02, 1.68172876e-02, 2.12428896e-02,\n",
       "        1.41619264e-02, 1.94726488e-02, 1.63747274e-02, 9.73632442e-03,\n",
       "        1.41619264e-02, 1.32768060e-02, 8.40864382e-03, 7.08096322e-03,\n",
       "        9.29376422e-03, 7.96608362e-03, 4.42560201e-03, 6.63840302e-03,\n",
       "        3.98304181e-03, 3.98304181e-03, 4.42560201e-03, 4.42560201e-03,\n",
       "        4.42560201e-03, 1.77024080e-03, 1.32768060e-03, 2.65536121e-03,\n",
       "        1.77024080e-03, 1.32768060e-03, 1.77024080e-03, 8.85120402e-04,\n",
       "        8.85120402e-04, 0.00000000e+00, 4.42560201e-04, 8.85120402e-04,\n",
       "        8.85120402e-04, 3.09792141e-03, 0.00000000e+00, 1.32768060e-03,\n",
       "        4.42560201e-04, 0.00000000e+00, 4.42560201e-04, 0.00000000e+00,\n",
       "        1.77024080e-03, 0.00000000e+00, 0.00000000e+00, 0.00000000e+00,\n",
       "        4.42560201e-04, 0.00000000e+00, 8.85120402e-04, 4.42560201e-04]),\n",
       " array([-1.81992492, -1.77316113, -1.72639734, -1.67963355, -1.63286976,\n",
       "        -1.58610597, -1.53934218, -1.49257839, -1.4458146 , -1.39905081,\n",
       "        -1.35228702, -1.30552322, -1.25875943, -1.21199564, -1.16523185,\n",
       "        -1.11846806, -1.07170427, -1.02494048, -0.97817669, -0.9314129 ,\n",
       "        -0.88464911, -0.83788532, -0.79112153, -0.74435774, -0.69759395,\n",
       "        -0.65083016, -0.60406637, -0.55730258, -0.51053879, -0.46377499,\n",
       "        -0.4170112 , -0.37024741, -0.32348362, -0.27671983, -0.22995604,\n",
       "        -0.18319225, -0.13642846, -0.08966467, -0.04290088,  0.00386291,\n",
       "         0.0506267 ,  0.09739049,  0.14415428,  0.19091807,  0.23768186,\n",
       "         0.28444565,  0.33120944,  0.37797323,  0.42473703,  0.47150082,\n",
       "         0.51826461,  0.5650284 ,  0.61179219,  0.65855598,  0.70531977,\n",
       "         0.75208356,  0.79884735,  0.84561114,  0.89237493,  0.93913872,\n",
       "         0.98590251,  1.0326663 ,  1.07943009,  1.12619388,  1.17295767,\n",
       "         1.21972146,  1.26648526,  1.31324905,  1.36001284,  1.40677663,\n",
       "         1.45354042,  1.50030421,  1.547068  ,  1.59383179,  1.64059558,\n",
       "         1.68735937,  1.73412316,  1.78088695,  1.82765074,  1.87441453,\n",
       "         1.92117832,  1.96794211,  2.0147059 ,  2.06146969,  2.10823349,\n",
       "         2.15499728,  2.20176107,  2.24852486,  2.29528865,  2.34205244,\n",
       "         2.38881623,  2.43558002,  2.48234381,  2.5291076 ,  2.57587139,\n",
       "         2.62263518,  2.66939897,  2.71616276,  2.76292655,  2.80969034,\n",
       "         2.85645413]),\n",
       " <BarContainer object of 100 artists>)"
      ]
     },
     "execution_count": 31,
     "metadata": {},
     "output_type": "execute_result"
    },
    {
     "data": {
      "image/png": "[encoded data removed]",
      "text/plain": [
       "<Figure size 640x480 with 1 Axes>"
      ]
     },
     "metadata": {},
     "output_type": "display_data"
    }
   ],
   "source": [
    "plt.hist(foreground.detection_statistic, bins=100, density=True, alpha=0.5)\n",
    "plt.hist(background.detection_statistic, bins=100, density=True)"
   ]
  },
  {
   "cell_type": "code",
   "execution_count": 10,
   "metadata": {},
   "outputs": [
    {
     "data": {
      "text/plain": [
       "3.039523646235466"
      ]
     },
     "execution_count": 10,
     "metadata": {},
     "output_type": "execute_result"
    }
   ],
   "source": [
    "max(background.detection_statistic)"
   ]
  },
  {
   "cell_type": "code",
   "execution_count": 12,
   "metadata": {},
   "outputs": [
    {
     "data": {
      "text/plain": [
       "RecoveredInjectionSet(mass_1=array([], dtype=float64), mass_2=array([], dtype=float64), redshift=array([], dtype=float64), psi=array([], dtype=float64), a_1=array([], dtype=float64), a_2=array([], dtype=float64), tilt_1=array([], dtype=float64), tilt_2=array([], dtype=float64), phi_12=array([], dtype=float64), phi_jl=array([], dtype=float64), ra=array([], dtype=float64), dec=array([], dtype=float64), theta_jn=array([], dtype=float64), phase=array([], dtype=float64), gps_time=array([], dtype=float64), shift=array([], shape=(0, 2), dtype=float64), snr=array([], dtype=float64), sample_rate=2048.0, duration=8.0, num_injections=5972772672, detection_statistic=array([], dtype=float64), detection_time=array([], dtype=float64))"
      ]
     },
     "execution_count": 12,
     "metadata": {},
     "output_type": "execute_result"
    }
   ],
   "source": [
    "foreground"
   ]
  },
  {
   "cell_type": "code",
   "execution_count": null,
   "metadata": {},
   "outputs": [],
   "source": []
  }
 ],
 "metadata": {
  "kernelspec": {
   "display_name": "infer-ICPngNax-py3.9",
   "language": "python",
   "name": "python3"
  },
  "language_info": {
   "codemirror_mode": {
    "name": "ipython",
    "version": 3
   },
   "file_extension": ".py",
   "mimetype": "text/x-python",
   "name": "python",
   "nbconvert_exporter": "python",
   "pygments_lexer": "ipython3",
   "version": "3.9.12"
  },
  "orig_nbformat": 4
 },
 "nbformat": 4,
 "nbformat_minor": 2
}
