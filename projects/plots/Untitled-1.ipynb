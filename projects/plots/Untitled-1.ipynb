{
 "cells": [
  {
   "cell_type": "code",
   "execution_count": 1,
   "metadata": {},
   "outputs": [],
   "source": [
    "from gwpy.segments import DataQualityDict, DataQualityFlag"
   ]
  },
  {
   "cell_type": "code",
   "execution_count": 2,
   "metadata": {},
   "outputs": [
    {
     "name": "stdout",
     "output_type": "stream",
     "text": [
      "{'url': 'https://segments.ligo.org'} H1:DMT-INJECTION_STOCHASTIC:1 (<SegmentList([Segment(1239566081, 1239567081)])>,)\n",
      "{'url': 'https://segments.ligo.org'} L1:DMT-INJECTION_STOCHASTIC:1 (<SegmentList([Segment(1239566081, 1239567081)])>,)\n",
      "{'url': 'https://segments.ligo.org'} H1:DMT-INJECTION_BURST:1 (<SegmentList([Segment(1239566081, 1239567081)])>,)\n",
      "{'url': 'https://segments.ligo.org'} L1:DMT-INJECTION_BURST:1 (<SegmentList([Segment(1239566081, 1239567081)])>,)\n",
      "{'url': 'https://segments.ligo.org'} H1:DMT-INJECTION_DETCHAR:1 (<SegmentList([Segment(1239566081, 1239567081)])>,)\n",
      "{'url': 'https://segments.ligo.org'} L1:DMT-INJECTION_DETCHAR:1 (<SegmentList([Segment(1239566081, 1239567081)])>,)\n",
      "{'url': 'https://segments.ligo.org'} H1:DMT-INJECTION_CBC:1 (<SegmentList([Segment(1239566081, 1239567081)])>,)\n",
      "{'url': 'https://segments.ligo.org'} L1:DMT-INJECTION_CBC:1 (<SegmentList([Segment(1239566081, 1239567081)])>,)\n",
      "{'url': 'https://segments.ligo.org'} L1:DCS-MISSING_L1_HOFT_C01:1 (<SegmentList([Segment(1239566081, 1239567081)])>,)\n",
      "{'url': 'https://segments.ligo.org'} H1:DCS-MISSING_H1_HOFT_C01:1 (<SegmentList([Segment(1239566081, 1239567081)])>,)\n",
      "{'url': 'https://segments.ligo.org'} H1:DMT-PRE_LOCKLOSS_4:1 (<SegmentList([Segment(1239566081, 1239567081)])>,)\n",
      "{'url': 'https://segments.ligo.org'} L1:DMT-PRE_LOCKLOSS_4:1 (<SegmentList([Segment(1239566081, 1239567081)])>,)\n",
      "{'url': 'https://segments.ligo.org'} H1:DCH-GATES_GT_3SEC:2 (<SegmentList([Segment(1239566081, 1239567081)])>,)\n",
      "{'url': 'https://segments.ligo.org'} L1:DCH-GATES_GT_3SEC:2 (<SegmentList([Segment(1239566081, 1239567081)])>,)\n",
      "{'url': 'https://segments.ligo.org'} H1:DCH-FORKLIFT:1 (<SegmentList([Segment(1239566081, 1239567081)])>,)\n",
      "{'url': 'https://segments.ligo.org'} L1:DCH-LSC_PRCL_IN1_GT_P075:1 (<SegmentList([Segment(1239566081, 1239567081)])>,)\n",
      "{'url': 'https://segments.ligo.org'} L1:DCH-SQZ_SATURATIONS:1 (<SegmentList([Segment(1239566081, 1239567081)])>,)\n",
      "{'url': 'https://segments.ligo.org'} L1:DCH-PEM_EY_ACC_BEAMTUBE_OMICRON_GT_100:1 (<SegmentList([Segment(1239566081, 1239567081)])>,)\n",
      "{'url': 'https://segments.ligo.org'} L1:DCH-FORKLIFT:1 (<SegmentList([Segment(1239566081, 1239567081)])>,)\n",
      "{'url': 'https://segments.ligo.org'} L1:DCH-NON_O3_STANDARD_CONFIG:1 (<SegmentList([Segment(1239566081, 1239567081)])>,)\n",
      "{'url': 'https://segments.ligo.org'} H1:DCH-EARTHQUAKE_CS_Z_BLRMS_GT_1000:1 (<SegmentList([Segment(1239566081, 1239567081)])>,)\n",
      "{'url': 'https://segments.ligo.org'} H1:DCH-CRANE_VEA:1 (<SegmentList([Segment(1239566081, 1239567081)])>,)\n",
      "{'url': 'https://segments.ligo.org'} H1:DCH-CHILLERS_ON_OFF:1 (<SegmentList([Segment(1239566081, 1239567081)])>,)\n",
      "{'url': 'https://segments.ligo.org'} H1:DCH-REALLY_CLOSE_EARTHQUAKE:1 (<SegmentList([Segment(1239566081, 1239567081)])>,)\n",
      "{'url': 'https://segments.ligo.org'} L1:DCH-LN2_TRUCK:1 (<SegmentList([Segment(1239566081, 1239567081)])>,)\n",
      "{'url': 'https://segments.ligo.org'} L1:DCH-THUNDER_MIC_BP_GT_300:1 (<SegmentList([Segment(1239566081, 1239567081)])>,)\n",
      "{'url': 'https://segments.ligo.org'} H1:DCH-ANY_PI_HIGH_RMS:1 (<SegmentList([Segment(1239566081, 1239567081)])>,)\n",
      "{'url': 'https://segments.ligo.org'} H1:DCH-ALS_X_SHUTTER_OPEN:1 (<SegmentList([Segment(1239566081, 1239567081)])>,)\n",
      "{'url': 'https://segments.ligo.org'} H1:DCH-NO_EQ_MODE_BLRMS_GT_200:1 (<SegmentList([Segment(1239566081, 1239567081)])>,)\n",
      "{'url': 'https://segments.ligo.org'} H1:DCH-BRS_EY_TILT_GT_11_MRAD:1 (<SegmentList([Segment(1239566081, 1239567081)])>,)\n",
      "{'url': 'https://segments.ligo.org'} L1:DCH-THUNDER_EY_MIC_BP_GT_250:1 (<SegmentList([Segment(1239566081, 1239567081)])>,)\n",
      "{'url': 'https://segments.ligo.org'} L1:DCH-HIGH_VIOLINS:1 (<SegmentList([Segment(1239566081, 1239567081)])>,)\n",
      "{'url': 'https://segments.ligo.org'} H1:DCH-CEMENT_TRUCK:1 (<SegmentList([Segment(1239566081, 1239567081)])>,)\n",
      "{'url': 'https://segments.ligo.org'} L1:DCH-SEVERE_SCATTERING:1 (<SegmentList([Segment(1239566081, 1239567081)])>,)\n",
      "{'url': 'https://segments.ligo.org'} L1:DCH-EARTHQUAKE_CS_Z_BLRMS_GT_600:1 (<SegmentList([Segment(1239566081, 1239567081)])>,)\n",
      "{'url': 'https://segments.ligo.org'} L1:DCH-WHITENED_RF45_AM_CTRL_GT_1P75:1 (<SegmentList([Segment(1239566081, 1239567081)])>,)\n",
      "{'url': 'https://segments.ligo.org'} L1:DCH-SEVERE_WHISTLES_FEB4:1 (<SegmentList([Segment(1239566081, 1239567081)])>,)\n",
      "{'url': 'https://segments.ligo.org'} L1:DCH-WHISTLES:1 (<SegmentList([Segment(1239566081, 1239567081)])>,)\n",
      "{'url': 'https://segments.ligo.org'} L1:DCH-DAQ_FAILURE_MISSING_DATA:1 (<SegmentList([Segment(1239566081, 1239567081)])>,)\n",
      "{'url': 'https://segments.ligo.org'} H1:DCH-ETMY_VIOLIN_MODE_RINGUP:1 (<SegmentList([Segment(1239566081, 1239567081)])>,)\n",
      "{'url': 'https://segments.ligo.org'} H1:DCH-HIGH_VIOLINS:1 (<SegmentList([Segment(1239566081, 1239567081)])>,)\n",
      "{'url': 'https://segments.ligo.org'} L1:DCH-SEVERE_OM3_SCATTER:1 (<SegmentList([Segment(1239566081, 1239567081)])>,)\n",
      "{'url': 'https://segments.ligo.org'} L1:DCH-O3_C01_SEG_MISSING:1 (<SegmentList([Segment(1239566081, 1239567081)])>,)\n"
     ]
    }
   ],
   "source": [
    "vetos = DataQualityDict.from_veto_definer_file(\"plots/vetoes/H1L1-HOFT_C01_O3_CBC.xml\")\n",
    "\n",
    "vetos.populate(segments=[[1239566081, 1239567081]])"
   ]
  },
  {
   "cell_type": "code",
   "execution_count": 2,
   "metadata": {},
   "outputs": [
    {
     "data": {
      "text/plain": [
       "<DataQualityFlag('L1:DCH-O3_C01_SEG_MISSING:1',\n",
       "                 known=[]\n",
       "                 active=[]\n",
       "                 description=None)>"
      ]
     },
     "execution_count": 2,
     "metadata": {},
     "output_type": "execute_result"
    }
   ],
   "source": [
    "DataQualityFlag.query_dqsegdb(\"L1:DCH-O3_C01_SEG_MISSING:1\",1239566081, 1239567081)"
   ]
  },
  {
   "cell_type": "code",
   "execution_count": null,
   "metadata": {},
   "outputs": [],
   "source": []
  }
 ],
 "metadata": {
  "kernelspec": {
   "display_name": "plots-9DuAa_zX-py3.9",
   "language": "python",
   "name": "python3"
  },
  "language_info": {
   "codemirror_mode": {
    "name": "ipython",
    "version": 3
   },
   "file_extension": ".py",
   "mimetype": "text/x-python",
   "name": "python",
   "nbconvert_exporter": "python",
   "pygments_lexer": "ipython3",
   "version": "3.9.18"
  }
 },
 "nbformat": 4,
 "nbformat_minor": 2
}
